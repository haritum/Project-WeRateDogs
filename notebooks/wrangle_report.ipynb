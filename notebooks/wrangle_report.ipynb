{
 "cells": [
  {
   "cell_type": "markdown",
   "metadata": {},
   "source": [
    "# <center> Wrangle Report </center> \n",
    "#### <center> May 23rd, 2020 </center>"
   ]
  },
  {
   "cell_type": "markdown",
   "metadata": {},
   "source": [
    "In this report, we are going to highlight different steps followed to wrangle tweets data of **WeRateDogs** Twitter user."
   ]
  },
  {
   "cell_type": "markdown",
   "metadata": {},
   "source": [
    "### 1. Gathering"
   ]
  },
  {
   "cell_type": "markdown",
   "metadata": {},
   "source": [
    "In the data gathering stage, we are going to collect tweet data from 3 different sources. "
   ]
  },
  {
   "cell_type": "markdown",
   "metadata": {},
   "source": [
    "1. `twitter_archive_enhanced.csv` - Enhanced Twitter Archive\n",
    "\n",
    "The **WeRateDogs** twitter archive contains basic tweet data for all 5000+ of their tweets. This data has been downloaded programmatically into a csv file using _requests_ modules of python.\n",
    "\n",
    "2. `tweet_json.txt` - Additional Data via the Twitter API\n",
    "\n",
    "Retweet count and favorite count has been gathered already from Twitter's API and saved in a  text file manually. This method is to avoid creating Twitter account to extract retweet count and favorite count by running SQL query using tweepy. \n",
    "\n",
    "3. `image_predictions.tsv` - Image Prediction File\n",
    "\n",
    "This tsv file contains information on the neural network that can classify breeds of dogs. We use this data to predict the dog breed from every **WeRateDogs** tweet. This data was downloaded programmatically using _wget_ modules of python.\n",
    "\n",
    "All these files are collected and organized into a folder called data."
   ]
  },
  {
   "cell_type": "markdown",
   "metadata": {},
   "source": [
    "### 2. Assessing"
   ]
  },
  {
   "cell_type": "markdown",
   "metadata": {},
   "source": [
    "In the data assessing stage, we are going to organize our findings in 3 data files based on **Quality** and **Tidiness**."
   ]
  },
  {
   "cell_type": "markdown",
   "metadata": {},
   "source": [
    "### 2.1 Quality"
   ]
  },
  {
   "cell_type": "markdown",
   "metadata": {},
   "source": [
    "`twitter_archive_enhanced.csv` findings\n",
    "- [ ] tweet_id, in_reply_to_status_id, in_reply_to_user_id, retweeted_status_id, retweeted_status_user_id all these columns should be of 'string' datatype (as we are never going to perform any analysis on these id's). Instead some are 'integers' and many 'floats'.\n",
    "- [ ] timestamp and retweeted_status_timestamp are given as object datatypes; wherein they should actually be of timestamp datatype.\n",
    "- [ ] Visual analysis indicated that there are sufficient enough missing data to worry about.\n",
    "- [ ] Of the 17 different column data, 6, which columns: in_reply_to_status_id, in_reply_to_user_id, retweeted_status_id, retweeted_status_user_id, and retweeted_status_timestamp, have missing values. This data makes sense! Because, there might be several million tweets going live every second, and not every tweet is retweeted! \n",
    "- [ ] Missing few expanded urls should be a trivial issue to fix.\n",
    "- [ ] There are about 745 that are missing from name column. Additionally, some dog names might have been misinterpreted as 'a'.\n",
    "- [ ] Source column with weblinks shouldn't have the HTML tags ```<a href= \"\"> <\\a>```.\n",
    "- [ ] Rating numerator and Rating denominator values are infact using different scales. This can be easily fixed."
   ]
  },
  {
   "cell_type": "markdown",
   "metadata": {},
   "source": [
    "`tweet_json.txt` findings \n",
    "- [ ] Three of the information columns needed (id, retweet_count, favorite_count) look clean. I have used the data from no Twitter account part of the project."
   ]
  },
  {
   "cell_type": "markdown",
   "metadata": {},
   "source": [
    "`image_predictions.tsv` findings\n",
    "- [ ] Tweetid datatype should be the same in all files.\n",
    "- [ ] No. of rows in this dataset are different from that of twitter_archive_enhanced. This indicates there might be few tweet_ids that are missing. Keep your eyes open!"
   ]
  },
  {
   "cell_type": "markdown",
   "metadata": {},
   "source": [
    "### 2.2 Tidiness\n",
    "- [ ] Entities data seems to contain image information which are already contained in the twitter archive data, like the image_url and extended url.\n",
    "- [ ] tweet_json and image_predictions should be part of twitter_archive table."
   ]
  },
  {
   "cell_type": "markdown",
   "metadata": {},
   "source": [
    "### 3. Cleaning"
   ]
  },
  {
   "cell_type": "markdown",
   "metadata": {},
   "source": [
    "In the data cleaning stage, we are going to make use of the above listed findings to clean, and save quality-tidy dataset into `twitter_archive_master.csv`. "
   ]
  },
  {
   "cell_type": "markdown",
   "metadata": {},
   "source": [
    "### 3.1 Quality data\n",
    "- [x] tweet_id, in_reply_to_status_id, in_reply_to_user_id, retweeted_status_id, retweeted_status_user_id columns are of dataype 'object'.\n",
    "- [x] timestamp and retweeted_status_timestamp are converted into datetime datatype with ns precision.\n",
    "- [x] Visual analysis indicated that there are sufficient enough missing data to worry about.\n",
    "- [x] Of the 17 different column data, 6, which columns: in_reply_to_status_id, in_reply_to_user_id, retweeted_status_id, retweeted_status_user_id, and retweeted_status_timestamp, have missing values. This data makes sense! Because, there might be several million tweets going live every second, and not every tweet is retweeted! \n",
    "- [x] Missing expanded urls have been fixed.\n",
    "- [x] There are about 745 that are missing from name column. Additionally, some dog names might have been misinterpreted as 'a'.\n",
    "- [x] Source column with weblinks shouldn't have the HTML tags ```<a href= \"\"> <\\a>```.\n",
    "- [x] We don't need to have any weblinks in the text column. \n",
    "- [ ] Rating numerator and Rating denominator values are infact using different scales. This can be easily fixed.\n",
    "- [x] Three of the information columns needed (id, retweet_count, favorite_count) look clean. I have used the data from no Twitter account part of the project.\n",
    "- [x] Tweetid datatype should be the same in all files.\n",
    "\n",
    "### 3.2 Tidy data:\n",
    "- [x] Retweets shouldn't be considered. Remove corresponding rows please! \n",
    "- [x] Entities data seems to contain image information which are already contained in the twitter archive data, like the image_url and extended url.\n",
    "- [x] tweet_json and image_predictions should be part of twitter_archive table."
   ]
  },
  {
   "cell_type": "markdown",
   "metadata": {},
   "source": [
    "### Conclusion:"
   ]
  },
  {
   "cell_type": "markdown",
   "metadata": {},
   "source": [
    "We have a come a long way in this data wrangling project. Now, the new dataset looks much cleaner than before."
   ]
  },
  {
   "cell_type": "code",
   "execution_count": null,
   "metadata": {},
   "outputs": [],
   "source": []
  }
 ],
 "metadata": {
  "kernelspec": {
   "display_name": "Python 3",
   "language": "python",
   "name": "python3"
  },
  "language_info": {
   "codemirror_mode": {
    "name": "ipython",
    "version": 3
   },
   "file_extension": ".py",
   "mimetype": "text/x-python",
   "name": "python",
   "nbconvert_exporter": "python",
   "pygments_lexer": "ipython3",
   "version": "3.7.5"
  }
 },
 "nbformat": 4,
 "nbformat_minor": 2
}
